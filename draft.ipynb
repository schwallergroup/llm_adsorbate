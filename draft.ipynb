{
 "cells": [
  {
   "cell_type": "code",
   "execution_count": 23,
   "metadata": {},
   "outputs": [],
   "source": [
    "import builtins\n",
    "import contextlib\n",
    "import io\n",
    "import math\n",
    "import os\n",
    "from typing import Any\n",
    "import requests\n",
    "import json\n",
    "from langchain_openai import ChatOpenAI\n",
    "from langchain_openai import ChatOpenAI\n",
    "from langgraph_codeact import create_codeact\n",
    "\n",
    "import numpy as np\n",
    "import pandas as pd\n",
    "import scipy\n",
    "import sklearn\n",
    "\n",
    "from dotenv import load_dotenv\n",
    "\n",
    "load_dotenv()\n",
    "api_key = os.getenv(\"OPENROUTER_API_KEY\")\n",
    "\n",
    "exec_globals = builtins.__dict__.copy()\n",
    "exec_globals.update({\n",
    "    \"np\": np,\n",
    "    \"pd\": pd,\n",
    "    \"scipy\": scipy,\n",
    "    \"sklearn\": sklearn,\n",
    "    \"math\": math,\n",
    "})\n",
    "\n",
    "def eval_code(code: str, context: dict[str, Any]) -> tuple[str, dict[str, Any]]:\n",
    "    \"\"\"\n",
    "    A safe and enhanced code evaluation function to execute generated Python code.\n",
    "    It uses traceback for detailed error reporting and handles variable scope correctly.\n",
    "    \"\"\"\n",
    "    import traceback\n",
    "\n",
    "    # The execution scope starts with the globally available libraries.\n",
    "    exec_scope = exec_globals.copy()\n",
    "    # It is then updated with the context from previous turns.\n",
    "    exec_scope.update(context)\n",
    "\n",
    "    stdout_io = io.StringIO()\n",
    "    try:\n",
    "        with contextlib.redirect_stdout(stdout_io):\n",
    "            # Execute the code in the prepared scope.\n",
    "            # New variables will be added to exec_scope.\n",
    "            exec(code, exec_scope)\n",
    "        \n",
    "        output = stdout_io.getvalue()\n",
    "        if not output:\n",
    "            output = \"<code ran, no output printed to stdout>\"\n",
    "\n",
    "    except Exception:\n",
    "        # Capture the full traceback on error.\n",
    "        output = f\"Error during execution:\\n{traceback.format_exc()}\"\n",
    "\n",
    "    # The exec_scope now contains the state after execution.\n",
    "    # We filter out any non-serializable types (like class definitions)\n",
    "    # before returning the context for the next turn.\n",
    "    context_after_exec = {\n",
    "        k: v for k, v in exec_scope.items() if not isinstance(v, type)\n",
    "    }\n",
    "    \n",
    "    return output, context_after_exec\n",
    "\n",
    "llm = ChatOpenAI(\n",
    "        openai_api_base=\"https://openrouter.ai/api/v1\",\n",
    "        openai_api_key=os.getenv(\"OPENROUTER_API_KEY\"),\n",
    "        model=\"google/gemini-2.5-pro\",\n",
    "        streaming=False,\n",
    "        max_completion_tokens=20000,\n",
    "        request_timeout=120,\n",
    "    )"
   ]
  },
  {
   "cell_type": "code",
   "execution_count": null,
   "metadata": {},
   "outputs": [],
   "source": []
  },
  {
   "cell_type": "code",
   "execution_count": 38,
   "metadata": {},
   "outputs": [
    {
     "name": "stdout",
     "output_type": "stream",
     "text": [
      "Using Materials Project MACE for MACECalculator with /home/vu/.cache/mace/20231203mace128L1_epoch199model\n",
      "Using float32 for MACECalculator, which is faster but less accurate. Recommended for MD. Use float64 for geometry optimization.\n"
     ]
    },
    {
     "name": "stderr",
     "output_type": "stream",
     "text": [
      "/home/vu/miniconda3/envs/llm_adsorbate/lib/python3.10/site-packages/mace/calculators/mace.py:197: UserWarning: Environment variable TORCH_FORCE_NO_WEIGHTS_ONLY_LOAD detected, since the`weights_only` argument was not explicitly passed to `torch.load`, forcing weights_only=False.\n",
      "  torch.load(f=model_path, map_location=device)\n"
     ]
    },
    {
     "name": "stdout",
     "output_type": "stream",
     "text": [
      "Using head Default out of ['Default']\n",
      "Default dtype float32 does not match model dtype float64, converting models to float32.\n"
     ]
    },
    {
     "ename": "RuntimeError",
     "evalue": "Atoms object has no calculator.",
     "output_type": "error",
     "traceback": [
      "\u001b[0;31m---------------------------------------------------------------------------\u001b[0m",
      "\u001b[0;31mRuntimeError\u001b[0m                              Traceback (most recent call last)",
      "Cell \u001b[0;32mIn[38], line 5\u001b[0m\n\u001b[1;32m      1\u001b[0m \u001b[38;5;28;01mfrom\u001b[39;00m\u001b[38;5;250m \u001b[39m\u001b[38;5;21;01mtools\u001b[39;00m\u001b[38;5;21;01m.\u001b[39;00m\u001b[38;5;21;01mtools\u001b[39;00m\u001b[38;5;250m \u001b[39m\u001b[38;5;28;01mimport\u001b[39;00m read_atoms_object, md_run_atoms\n\u001b[1;32m      3\u001b[0m atoms \u001b[38;5;241m=\u001b[39m read_atoms_object(\u001b[38;5;124m'\u001b[39m\u001b[38;5;124mnotebooks/test_slab.xyz\u001b[39m\u001b[38;5;124m'\u001b[39m)\n\u001b[0;32m----> 5\u001b[0m \u001b[43mmd_run_atoms\u001b[49m\u001b[43m(\u001b[49m\u001b[43matoms\u001b[49m\u001b[43m)\u001b[49m\n",
      "File \u001b[0;32m~/repos/llm_adsorbate/src/tools/tools.py:128\u001b[0m, in \u001b[0;36mmd_run_atoms\u001b[0;34m(atoms, steps, temperature_K)\u001b[0m\n\u001b[1;32m    124\u001b[0m     MD_traj\u001b[38;5;241m.\u001b[39mappend(atoms\u001b[38;5;241m.\u001b[39mcopy())\n\u001b[1;32m    126\u001b[0m dyn\u001b[38;5;241m.\u001b[39mattach(save_frame, interval\u001b[38;5;241m=\u001b[39m\u001b[38;5;241m1\u001b[39m)\n\u001b[0;32m--> 128\u001b[0m \u001b[43mdyn\u001b[49m\u001b[38;5;241;43m.\u001b[39;49m\u001b[43mrun\u001b[49m\u001b[43m(\u001b[49m\u001b[43msteps\u001b[49m\u001b[43m)\u001b[49m\n\u001b[1;32m    130\u001b[0m \u001b[38;5;28;01mreturn\u001b[39;00m MD_traj\n",
      "File \u001b[0;32m~/miniconda3/envs/llm_adsorbate/lib/python3.10/site-packages/ase/md/md.py:171\u001b[0m, in \u001b[0;36mMolecularDynamics.run\u001b[0;34m(self, steps)\u001b[0m\n\u001b[1;32m    158\u001b[0m \u001b[38;5;28;01mdef\u001b[39;00m\u001b[38;5;250m \u001b[39m\u001b[38;5;21mrun\u001b[39m(\u001b[38;5;28mself\u001b[39m, steps\u001b[38;5;241m=\u001b[39m\u001b[38;5;241m50\u001b[39m):\n\u001b[1;32m    159\u001b[0m \u001b[38;5;250m    \u001b[39m\u001b[38;5;124;03m\"\"\"Run molecular dynamics algorithm.\u001b[39;00m\n\u001b[1;32m    160\u001b[0m \n\u001b[1;32m    161\u001b[0m \u001b[38;5;124;03m    Parameters\u001b[39;00m\n\u001b[0;32m   (...)\u001b[0m\n\u001b[1;32m    169\u001b[0m \u001b[38;5;124;03m        True if the maximum number of steps are reached.\u001b[39;00m\n\u001b[1;32m    170\u001b[0m \u001b[38;5;124;03m    \"\"\"\u001b[39;00m\n\u001b[0;32m--> 171\u001b[0m     \u001b[38;5;28;01mreturn\u001b[39;00m \u001b[43mDynamics\u001b[49m\u001b[38;5;241;43m.\u001b[39;49m\u001b[43mrun\u001b[49m\u001b[43m(\u001b[49m\u001b[38;5;28;43mself\u001b[39;49m\u001b[43m,\u001b[49m\u001b[43m \u001b[49m\u001b[43msteps\u001b[49m\u001b[38;5;241;43m=\u001b[39;49m\u001b[43msteps\u001b[49m\u001b[43m)\u001b[49m\n",
      "File \u001b[0;32m~/miniconda3/envs/llm_adsorbate/lib/python3.10/site-packages/ase/optimize/optimize.py:286\u001b[0m, in \u001b[0;36mDynamics.run\u001b[0;34m(self, steps)\u001b[0m\n\u001b[1;32m    268\u001b[0m \u001b[38;5;28;01mdef\u001b[39;00m\u001b[38;5;250m \u001b[39m\u001b[38;5;21mrun\u001b[39m(\u001b[38;5;28mself\u001b[39m, steps\u001b[38;5;241m=\u001b[39mDEFAULT_MAX_STEPS):\n\u001b[1;32m    269\u001b[0m \u001b[38;5;250m    \u001b[39m\u001b[38;5;124;03m\"\"\"Run dynamics algorithm.\u001b[39;00m\n\u001b[1;32m    270\u001b[0m \n\u001b[1;32m    271\u001b[0m \u001b[38;5;124;03m    This method will return when the forces on all individual\u001b[39;00m\n\u001b[0;32m   (...)\u001b[0m\n\u001b[1;32m    283\u001b[0m \u001b[38;5;124;03m        True if the forces on atoms are converged.\u001b[39;00m\n\u001b[1;32m    284\u001b[0m \u001b[38;5;124;03m    \"\"\"\u001b[39;00m\n\u001b[0;32m--> 286\u001b[0m     \u001b[38;5;28;01mfor\u001b[39;00m converged \u001b[38;5;129;01min\u001b[39;00m Dynamics\u001b[38;5;241m.\u001b[39mirun(\u001b[38;5;28mself\u001b[39m, steps\u001b[38;5;241m=\u001b[39msteps):\n\u001b[1;32m    287\u001b[0m         \u001b[38;5;28;01mpass\u001b[39;00m\n\u001b[1;32m    288\u001b[0m     \u001b[38;5;28;01mreturn\u001b[39;00m converged\n",
      "File \u001b[0;32m~/miniconda3/envs/llm_adsorbate/lib/python3.10/site-packages/ase/optimize/optimize.py:233\u001b[0m, in \u001b[0;36mDynamics.irun\u001b[0;34m(self, steps)\u001b[0m\n\u001b[1;32m    230\u001b[0m \u001b[38;5;28mself\u001b[39m\u001b[38;5;241m.\u001b[39mmax_steps \u001b[38;5;241m=\u001b[39m \u001b[38;5;28mself\u001b[39m\u001b[38;5;241m.\u001b[39mnsteps \u001b[38;5;241m+\u001b[39m steps\n\u001b[1;32m    232\u001b[0m \u001b[38;5;66;03m# compute the initial step\u001b[39;00m\n\u001b[0;32m--> 233\u001b[0m gradient \u001b[38;5;241m=\u001b[39m \u001b[38;5;28;43mself\u001b[39;49m\u001b[38;5;241;43m.\u001b[39;49m\u001b[43moptimizable\u001b[49m\u001b[38;5;241;43m.\u001b[39;49m\u001b[43mget_gradient\u001b[49m\u001b[43m(\u001b[49m\u001b[43m)\u001b[49m\n\u001b[1;32m    235\u001b[0m \u001b[38;5;66;03m# log the initial step\u001b[39;00m\n\u001b[1;32m    236\u001b[0m \u001b[38;5;28;01mif\u001b[39;00m \u001b[38;5;28mself\u001b[39m\u001b[38;5;241m.\u001b[39mnsteps \u001b[38;5;241m==\u001b[39m \u001b[38;5;241m0\u001b[39m:\n",
      "File \u001b[0;32m~/miniconda3/envs/llm_adsorbate/lib/python3.10/site-packages/ase/optimize/optimize.py:37\u001b[0m, in \u001b[0;36mOptimizableAtoms.get_gradient\u001b[0;34m(self)\u001b[0m\n\u001b[1;32m     36\u001b[0m \u001b[38;5;28;01mdef\u001b[39;00m\u001b[38;5;250m \u001b[39m\u001b[38;5;21mget_gradient\u001b[39m(\u001b[38;5;28mself\u001b[39m):\n\u001b[0;32m---> 37\u001b[0m     \u001b[38;5;28;01mreturn\u001b[39;00m \u001b[38;5;28;43mself\u001b[39;49m\u001b[38;5;241;43m.\u001b[39;49m\u001b[43matoms\u001b[49m\u001b[38;5;241;43m.\u001b[39;49m\u001b[43mget_forces\u001b[49m\u001b[43m(\u001b[49m\u001b[43m)\u001b[49m\u001b[38;5;241m.\u001b[39mravel()\n",
      "File \u001b[0;32m~/miniconda3/envs/llm_adsorbate/lib/python3.10/site-packages/ase/atoms.py:885\u001b[0m, in \u001b[0;36mAtoms.get_forces\u001b[0;34m(self, apply_constraint, md)\u001b[0m\n\u001b[1;32m    871\u001b[0m \u001b[38;5;250m\u001b[39m\u001b[38;5;124;03m\"\"\"Calculate atomic forces.\u001b[39;00m\n\u001b[1;32m    872\u001b[0m \n\u001b[1;32m    873\u001b[0m \u001b[38;5;124;03mAsk the attached calculator to calculate the forces and apply\u001b[39;00m\n\u001b[0;32m   (...)\u001b[0m\n\u001b[1;32m    881\u001b[0m \u001b[38;5;124;03mconstraints (required for molecular dynamics with this type of\u001b[39;00m\n\u001b[1;32m    882\u001b[0m \u001b[38;5;124;03mconstraints).\"\"\"\u001b[39;00m\n\u001b[1;32m    884\u001b[0m \u001b[38;5;28;01mif\u001b[39;00m \u001b[38;5;28mself\u001b[39m\u001b[38;5;241m.\u001b[39m_calc \u001b[38;5;129;01mis\u001b[39;00m \u001b[38;5;28;01mNone\u001b[39;00m:\n\u001b[0;32m--> 885\u001b[0m     \u001b[38;5;28;01mraise\u001b[39;00m \u001b[38;5;167;01mRuntimeError\u001b[39;00m(\u001b[38;5;124m'\u001b[39m\u001b[38;5;124mAtoms object has no calculator.\u001b[39m\u001b[38;5;124m'\u001b[39m)\n\u001b[1;32m    886\u001b[0m forces \u001b[38;5;241m=\u001b[39m \u001b[38;5;28mself\u001b[39m\u001b[38;5;241m.\u001b[39m_calc\u001b[38;5;241m.\u001b[39mget_forces(\u001b[38;5;28mself\u001b[39m)\n\u001b[1;32m    888\u001b[0m \u001b[38;5;28;01mif\u001b[39;00m apply_constraint:\n\u001b[1;32m    889\u001b[0m     \u001b[38;5;66;03m# We need a special md flag here because for MD we want\u001b[39;00m\n\u001b[1;32m    890\u001b[0m     \u001b[38;5;66;03m# to skip real constraints but include special \"constraints\"\u001b[39;00m\n\u001b[1;32m    891\u001b[0m     \u001b[38;5;66;03m# Like Hookean.\u001b[39;00m\n",
      "\u001b[0;31mRuntimeError\u001b[0m: Atoms object has no calculator."
     ]
    }
   ],
   "source": [
    "from tools.tools import read_atoms_object, md_run_atoms\n",
    "\n",
    "atoms = read_atoms_object('notebooks/test_slab.xyz')\n",
    "\n",
    "md_run_atoms(atoms)"
   ]
  }
 ],
 "metadata": {
  "kernelspec": {
   "display_name": "llm_adsorbate",
   "language": "python",
   "name": "python3"
  },
  "language_info": {
   "codemirror_mode": {
    "name": "ipython",
    "version": 3
   },
   "file_extension": ".py",
   "mimetype": "text/x-python",
   "name": "python",
   "nbconvert_exporter": "python",
   "pygments_lexer": "ipython3",
   "version": "3.10.18"
  }
 },
 "nbformat": 4,
 "nbformat_minor": 2
}
