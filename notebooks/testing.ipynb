{
 "cells": [
  {
   "cell_type": "code",
   "execution_count": 1,
   "id": "dfb5e477",
   "metadata": {},
   "outputs": [
    {
     "ename": "ModuleNotFoundError",
     "evalue": "No module named 'pandas'",
     "output_type": "error",
     "traceback": [
      "\u001b[31m---------------------------------------------------------------------------\u001b[39m",
      "\u001b[31mModuleNotFoundError\u001b[39m                       Traceback (most recent call last)",
      "\u001b[36mCell\u001b[39m\u001b[36m \u001b[39m\u001b[32mIn[1]\u001b[39m\u001b[32m, line 1\u001b[39m\n\u001b[32m----> \u001b[39m\u001b[32m1\u001b[39m \u001b[38;5;28;01mimport\u001b[39;00m\u001b[38;5;250m \u001b[39m\u001b[34;01mpandas\u001b[39;00m\u001b[38;5;250m \u001b[39m\u001b[38;5;28;01mas\u001b[39;00m\u001b[38;5;250m \u001b[39m\u001b[34;01mpd\u001b[39;00m\n\u001b[32m      2\u001b[39m \u001b[38;5;28;01mfrom\u001b[39;00m\u001b[38;5;250m \u001b[39m\u001b[34;01mase\u001b[39;00m\u001b[38;5;250m \u001b[39m\u001b[38;5;28;01mimport\u001b[39;00m Atoms, Atom\n\u001b[32m      3\u001b[39m \u001b[38;5;28;01mfrom\u001b[39;00m\u001b[38;5;250m \u001b[39m\u001b[34;01mase\u001b[39;00m\u001b[34;01m.\u001b[39;00m\u001b[34;01mio\u001b[39;00m\u001b[38;5;250m \u001b[39m\u001b[38;5;28;01mimport\u001b[39;00m read, write\n",
      "\u001b[31mModuleNotFoundError\u001b[39m: No module named 'pandas'"
     ]
    }
   ],
   "source": [
    "import pandas as pd\n",
    "from ase import Atoms, Atom\n",
    "from ase.io import read, write\n",
    "from ase.visualize import view\n",
    "from autoadsorbate import Surface, Fragment\n",
    "from autoadsorbate.Surf import attach_fragment\n"
   ]
  },
  {
   "cell_type": "code",
   "execution_count": null,
   "id": "fd547a02",
   "metadata": {},
   "outputs": [],
   "source": [
    "# https://github.com/basf/autoadsorbate#\n",
    "from autoadsorbate import Surface, Fragment\n",
    "from ase.io import write\n",
    "\n",
    "f = Fragment('[C+](c1ccccc1)(c1ccccc1)(c1ccccc1)')\n",
    "write('tmp.xyz', f.get_conformer(0))\n",
    "#is the carbo cation sterically protected?"
   ]
  },
  {
   "cell_type": "code",
   "execution_count": null,
   "id": "ae73608d",
   "metadata": {},
   "outputs": [
    {
     "name": "stderr",
     "output_type": "stream",
     "text": [
      "/home/ef/venvs/mace_env/lib/python3.12/site-packages/ase/io/extxyz.py:318: UserWarning: Skipping unhashable information adsorbate_info\n",
      "  warnings.warn('Skipping unhashable information '\n"
     ]
    }
   ],
   "source": [
    "# from ase.build import fcc111\n",
    "# slab = fcc111('Cu', [4,4,4], vacuum=10)\n",
    "# # view(slab)\n",
    "\n",
    "# write('slab.xyz', slab)"
   ]
  },
  {
   "cell_type": "code",
   "execution_count": null,
   "id": "b7145466",
   "metadata": {},
   "outputs": [],
   "source": [
    "import ase\n",
    "from typing import Literal\n",
    "\n",
    "def read_atoms_object(path: str):\n",
    "    \"\"\"reads a atomistic structure file from the  system,\n",
    "    path: string - location on system\n",
    "    returns: ase.Atoms object\n",
    "    \"\"\"\n",
    "    return ase.io.read(path)\n",
    "\n",
    "def get_sites_from_atoms(atoms: ase.Atoms, mode: Literal['slab', 'particle']):\n",
    "    \"\"\"\n",
    "    Takes ase.Atoms object that can be an \"slab\" or 'particle'. Determines all surface sites. \n",
    "    returns pandas.DataFrame containing all site information.\n",
    "    \"\"\"\n",
    "    return Surface('')\n"
   ]
  },
  {
   "cell_type": "code",
   "execution_count": null,
   "id": "556222e7",
   "metadata": {},
   "outputs": [],
   "source": [
    "# Here is my slab: <path_to_slab>\n",
    "#how does *OCO bind?\n",
    "#it should bind to a top site in the center of the slab"
   ]
  },
  {
   "cell_type": "code",
   "execution_count": 18,
   "id": "b5511e7a",
   "metadata": {},
   "outputs": [
    {
     "data": {
      "text/plain": [
       "<Popen: returncode: None args: ['/home/ef/venvs/mace_env/bin/python', '-m', ...>"
      ]
     },
     "execution_count": 18,
     "metadata": {},
     "output_type": "execute_result"
    }
   ],
   "source": [
    "view([s.view_site(i, return_atoms = True) for i in s.site_df.index.values])"
   ]
  },
  {
   "cell_type": "code",
   "execution_count": 21,
   "id": "43232337",
   "metadata": {},
   "outputs": [
    {
     "name": "stdout",
     "output_type": "stream",
     "text": [
      "\u001b[31mInit signature:\u001b[39m\n",
      "Surface(\n",
      "    atoms: ase.atoms.Atoms,\n",
      "    precision: float = \u001b[32m0.25\u001b[39m,\n",
      "    touch_sphere_size: float = \u001b[32m3\u001b[39m,\n",
      "    mode: Literal[\u001b[33m'slab'\u001b[39m, \u001b[33m'particle'\u001b[39m, \u001b[33m'dummy'\u001b[39m] = \u001b[33m'slab'\u001b[39m,\n",
      ")\n",
      "\u001b[31mDocstring:\u001b[39m     \n",
      "Base class for initializing a reactive surface.\n",
      "\n",
      "Attributes:\n",
      "    atoms (Atoms): The ASE Atoms object representing the surface.\n",
      "    precision (float): The precision for the grid spacing.\n",
      "    touch_sphere_size (float): The size of the touch sphere.\n",
      "    site_dict (Dict): Dictionary containing site information.\n",
      "    site_df (pd.DataFrame): DataFrame containing site information.\n",
      "\u001b[31mInit docstring:\u001b[39m\n",
      "Initialize attributes.\n",
      "\n",
      "Args:\n",
      "    atoms (Atoms): The ASE Atoms object representing the surface.\n",
      "    precision (float, optional): The precision for the grid spacing. Defaults to 0.25.\n",
      "    touch_sphere_size (float, optional): The size of the touch sphere. Defaults to 3.\n",
      "\u001b[31mFile:\u001b[39m           ~/Code/autoadsorbate/autoadsorbate/autoadsorbate.py\n",
      "\u001b[31mType:\u001b[39m           type\n",
      "\u001b[31mSubclasses:\u001b[39m     ActiveSite"
     ]
    }
   ],
   "source": [
    "Surface?"
   ]
  },
  {
   "cell_type": "code",
   "execution_count": 19,
   "id": "19417959",
   "metadata": {},
   "outputs": [
    {
     "data": {
      "text/html": [
       "<div>\n",
       "<style scoped>\n",
       "    .dataframe tbody tr th:only-of-type {\n",
       "        vertical-align: middle;\n",
       "    }\n",
       "\n",
       "    .dataframe tbody tr th {\n",
       "        vertical-align: top;\n",
       "    }\n",
       "\n",
       "    .dataframe thead th {\n",
       "        text-align: right;\n",
       "    }\n",
       "</style>\n",
       "<table border=\"1\" class=\"dataframe\">\n",
       "  <thead>\n",
       "    <tr style=\"text-align: right;\">\n",
       "      <th></th>\n",
       "      <th>coordinates</th>\n",
       "      <th>connectivity</th>\n",
       "      <th>topology</th>\n",
       "      <th>n_vector</th>\n",
       "      <th>h_vector</th>\n",
       "      <th>site_formula</th>\n",
       "    </tr>\n",
       "  </thead>\n",
       "  <tbody>\n",
       "    <tr>\n",
       "      <th>0</th>\n",
       "      <td>[0.0, 0.0, 16.252703415323648]</td>\n",
       "      <td>1</td>\n",
       "      <td>[48]</td>\n",
       "      <td>[-0.004670396521231514, -0.0031449903964026827...</td>\n",
       "      <td>[1.0, 0.0, 0.0]</td>\n",
       "      <td>{'Cu': 1}</td>\n",
       "    </tr>\n",
       "    <tr>\n",
       "      <th>1</th>\n",
       "      <td>[0.6381638700208592, 1.105332246430909, 16.252...</td>\n",
       "      <td>2</td>\n",
       "      <td>[48, 52]</td>\n",
       "      <td>[0.0006776311857337964, -0.010516809475472271,...</td>\n",
       "      <td>[-0.5000000000000001, -0.8660254037844387, 0.0]</td>\n",
       "      <td>{'Cu': 2}</td>\n",
       "    </tr>\n",
       "    <tr>\n",
       "      <th>2</th>\n",
       "      <td>[1.2763277400417168, 5.162938145598479e-16, 16...</td>\n",
       "      <td>2</td>\n",
       "      <td>[48, 49]</td>\n",
       "      <td>[-0.011576660085263627, -0.017987208564805915,...</td>\n",
       "      <td>[-1.0, 0.0, 0.0]</td>\n",
       "      <td>{'Cu': 2}</td>\n",
       "    </tr>\n",
       "    <tr>\n",
       "      <th>3</th>\n",
       "      <td>[1.2763277400417183, 0.7368881642872727, 16.25...</td>\n",
       "      <td>3</td>\n",
       "      <td>[48, 49, 52]</td>\n",
       "      <td>[-0.012729895685884009, 0.0042077202541598024,...</td>\n",
       "      <td>[-0.5000000000000001, -0.8660254037844387, 0.0]</td>\n",
       "      <td>{'Cu': 3}</td>\n",
       "    </tr>\n",
       "    <tr>\n",
       "      <th>4</th>\n",
       "      <td>[1.2763277400417183, 2.210664492861818, 16.252...</td>\n",
       "      <td>1</td>\n",
       "      <td>[52]</td>\n",
       "      <td>[0.0013334161774154324, -0.007734740595550527,...</td>\n",
       "      <td>[1.0, 0.0, 0.0]</td>\n",
       "      <td>{'Cu': 1}</td>\n",
       "    </tr>\n",
       "    <tr>\n",
       "      <th>...</th>\n",
       "      <td>...</td>\n",
       "      <td>...</td>\n",
       "      <td>...</td>\n",
       "      <td>...</td>\n",
       "      <td>...</td>\n",
       "      <td>...</td>\n",
       "    </tr>\n",
       "    <tr>\n",
       "      <th>91</th>\n",
       "      <td>[12.763277400417183, 5.895105314298181, 16.252...</td>\n",
       "      <td>3</td>\n",
       "      <td>[56, 60, 63]</td>\n",
       "      <td>[0.004597684657882286, 0.0010369895897556077, ...</td>\n",
       "      <td>[0.4999999999999997, 0.8660254037844388, 0.0]</td>\n",
       "      <td>{'Cu': 3}</td>\n",
       "    </tr>\n",
       "    <tr>\n",
       "      <th>92</th>\n",
       "      <td>[12.763277400417184, 6.631993478585455, 16.252...</td>\n",
       "      <td>2</td>\n",
       "      <td>[60, 63]</td>\n",
       "      <td>[-0.002307890021083896, -0.008129672643897032,...</td>\n",
       "      <td>[-1.0, 0.0, 0.0]</td>\n",
       "      <td>{'Cu': 2}</td>\n",
       "    </tr>\n",
       "    <tr>\n",
       "      <th>93</th>\n",
       "      <td>[12.763277400417183, 7.368881642872727, 16.252...</td>\n",
       "      <td>3</td>\n",
       "      <td>[51, 60, 63]</td>\n",
       "      <td>[-0.008622214744183905, 0.0022264556290070396,...</td>\n",
       "      <td>[-0.5000000000000001, -0.8660254037844385, 0.0]</td>\n",
       "      <td>{'Cu': 3}</td>\n",
       "    </tr>\n",
       "    <tr>\n",
       "      <th>94</th>\n",
       "      <td>[13.401441270438042, 7.737325725016363, 16.252...</td>\n",
       "      <td>2</td>\n",
       "      <td>[51, 60]</td>\n",
       "      <td>[0.017097839355513126, 0.01156746316247103, 0....</td>\n",
       "      <td>[-0.49999999999999956, 0.8660254037844388, 0.0]</td>\n",
       "      <td>{'Cu': 2}</td>\n",
       "    </tr>\n",
       "    <tr>\n",
       "      <th>95</th>\n",
       "      <td>[14.039605140458901, 8.10576980716, 16.2527034...</td>\n",
       "      <td>3</td>\n",
       "      <td>[48, 51, 60]</td>\n",
       "      <td>[-0.0037480626537541835, 0.003291840196578486,...</td>\n",
       "      <td>[-1.0, 0.0, 0.0]</td>\n",
       "      <td>{'Cu': 3}</td>\n",
       "    </tr>\n",
       "  </tbody>\n",
       "</table>\n",
       "<p>96 rows × 6 columns</p>\n",
       "</div>"
      ],
      "text/plain": [
       "                                          coordinates  connectivity  \\\n",
       "0                      [0.0, 0.0, 16.252703415323648]             1   \n",
       "1   [0.6381638700208592, 1.105332246430909, 16.252...             2   \n",
       "2   [1.2763277400417168, 5.162938145598479e-16, 16...             2   \n",
       "3   [1.2763277400417183, 0.7368881642872727, 16.25...             3   \n",
       "4   [1.2763277400417183, 2.210664492861818, 16.252...             1   \n",
       "..                                                ...           ...   \n",
       "91  [12.763277400417183, 5.895105314298181, 16.252...             3   \n",
       "92  [12.763277400417184, 6.631993478585455, 16.252...             2   \n",
       "93  [12.763277400417183, 7.368881642872727, 16.252...             3   \n",
       "94  [13.401441270438042, 7.737325725016363, 16.252...             2   \n",
       "95  [14.039605140458901, 8.10576980716, 16.2527034...             3   \n",
       "\n",
       "        topology                                           n_vector  \\\n",
       "0           [48]  [-0.004670396521231514, -0.0031449903964026827...   \n",
       "1       [48, 52]  [0.0006776311857337964, -0.010516809475472271,...   \n",
       "2       [48, 49]  [-0.011576660085263627, -0.017987208564805915,...   \n",
       "3   [48, 49, 52]  [-0.012729895685884009, 0.0042077202541598024,...   \n",
       "4           [52]  [0.0013334161774154324, -0.007734740595550527,...   \n",
       "..           ...                                                ...   \n",
       "91  [56, 60, 63]  [0.004597684657882286, 0.0010369895897556077, ...   \n",
       "92      [60, 63]  [-0.002307890021083896, -0.008129672643897032,...   \n",
       "93  [51, 60, 63]  [-0.008622214744183905, 0.0022264556290070396,...   \n",
       "94      [51, 60]  [0.017097839355513126, 0.01156746316247103, 0....   \n",
       "95  [48, 51, 60]  [-0.0037480626537541835, 0.003291840196578486,...   \n",
       "\n",
       "                                           h_vector site_formula  \n",
       "0                                   [1.0, 0.0, 0.0]    {'Cu': 1}  \n",
       "1   [-0.5000000000000001, -0.8660254037844387, 0.0]    {'Cu': 2}  \n",
       "2                                  [-1.0, 0.0, 0.0]    {'Cu': 2}  \n",
       "3   [-0.5000000000000001, -0.8660254037844387, 0.0]    {'Cu': 3}  \n",
       "4                                   [1.0, 0.0, 0.0]    {'Cu': 1}  \n",
       "..                                              ...          ...  \n",
       "91    [0.4999999999999997, 0.8660254037844388, 0.0]    {'Cu': 3}  \n",
       "92                                 [-1.0, 0.0, 0.0]    {'Cu': 2}  \n",
       "93  [-0.5000000000000001, -0.8660254037844385, 0.0]    {'Cu': 3}  \n",
       "94  [-0.49999999999999956, 0.8660254037844388, 0.0]    {'Cu': 2}  \n",
       "95                                 [-1.0, 0.0, 0.0]    {'Cu': 3}  \n",
       "\n",
       "[96 rows x 6 columns]"
      ]
     },
     "execution_count": 19,
     "metadata": {},
     "output_type": "execute_result"
    }
   ],
   "source": [
    "s = Surface(slab)\n",
    "s.site_df"
   ]
  },
  {
   "cell_type": "code",
   "execution_count": null,
   "id": "6a820ba9",
   "metadata": {},
   "outputs": [
    {
     "name": "stdout",
     "output_type": "stream",
     "text": [
      "\u001b[31mSignature:\u001b[39m\n",
      "attach_fragment(\n",
      "    atoms: ase.atoms.Atoms,\n",
      "    site_dict: dict,\n",
      "    fragment: ase.atoms.Atoms,\n",
      "    n_rotation: float,\n",
      "    height: float = \u001b[38;5;28;01mNone\u001b[39;00m,\n",
      ") -> ase.atoms.Atoms\n",
      "\u001b[31mDocstring:\u001b[39m\n",
      "Places a fragment on a slab in a simple way.\n",
      "\n",
      "Args:\n",
      "    atoms (Atoms): The slab ASE Atoms object.\n",
      "    site_dict (dict): Dictionary containing site information.\n",
      "        Example:\n",
      "            {\n",
      "                'coordinates': array([1.29400541, 2.24128311, 22.33930596]),\n",
      "                'connectivity': 1,\n",
      "                'topology': [30],\n",
      "                'n_vector': array([0.00752117, -0.00320119, 0.99996659]),\n",
      "                'h_vector': array([1., 0., 0.]),\n",
      "                'site_formula': {'Cu': 1}\n",
      "            }\n",
      "    fragment (Atoms): The fragment to be attached.\n",
      "    n_rotation (float): Angle to rotate around n_vector.\n",
      "    height (float, optional): Height to place the fragment. Defaults to None.\n",
      "\n",
      "Returns:\n",
      "    Atoms: The slab with the fragment attached.\n",
      "\u001b[31mFile:\u001b[39m      ~/Code/autoadsorbate/autoadsorbate/Surf.py\n",
      "\u001b[31mType:\u001b[39m      function"
     ]
    }
   ],
   "source": [
    "attach_fragment(\n",
    "    atoms = s.atoms,\n",
    "    site_dict = s.site_df.iloc[0].to_dict(),\n",
    ")"
   ]
  },
  {
   "cell_type": "code",
   "execution_count": null,
   "id": "dba24c00",
   "metadata": {},
   "outputs": [],
   "source": []
  }
 ],
 "metadata": {
  "kernelspec": {
   "display_name": "llm_adsorbate (3.11.13)",
   "language": "python",
   "name": "python3"
  },
  "language_info": {
   "codemirror_mode": {
    "name": "ipython",
    "version": 3
   },
   "file_extension": ".py",
   "mimetype": "text/x-python",
   "name": "python",
   "nbconvert_exporter": "python",
   "pygments_lexer": "ipython3",
   "version": "3.11.13"
  }
 },
 "nbformat": 4,
 "nbformat_minor": 5
}
