{
 "cells": [
  {
   "cell_type": "code",
   "execution_count": 4,
   "id": "a42830d9",
   "metadata": {},
   "outputs": [],
   "source": [
    "%load_ext autoreload\n",
    "%autoreload 2"
   ]
  },
  {
   "cell_type": "code",
   "execution_count": 1,
   "id": "dfb5e477",
   "metadata": {},
   "outputs": [],
   "source": [
    "import pandas as pd\n",
    "from ase import Atoms, Atom\n",
    "from ase.io import read, write\n",
    "from ase.visualize import view\n",
    "from autoadsorbate import Surface, Fragment\n",
    "from autoadsorbate.Surf import attach_fragment\n"
   ]
  },
  {
   "cell_type": "code",
   "execution_count": null,
   "id": "fd547a02",
   "metadata": {},
   "outputs": [],
   "source": [
    "# https://github.com/basf/autoadsorbate#\n",
    "from autoadsorbate import Surface, Fragment\n",
    "from ase.io import write\n",
    "\n",
    "f = Fragment('[C+](c1ccccc1)(c1ccccc1)(c1ccccc1)')\n",
    "write('tmp.xyz', f.get_conformer(0))\n",
    "#is the carbo cation sterically protected?"
   ]
  },
  {
   "cell_type": "code",
   "execution_count": null,
   "id": "ae73608d",
   "metadata": {},
   "outputs": [],
   "source": []
  },
  {
   "cell_type": "code",
   "execution_count": null,
   "id": "b7145466",
   "metadata": {},
   "outputs": [],
   "source": [
    "import ase\n",
    "from typing import Literal\n",
    "\n",
    "def read_atoms_object(path: str):\n",
    "    \"\"\"reads a atomistic structure file from the  system,\n",
    "    Args:\n",
    "        path: string - location on system\n",
    "    returns:\n",
    "        ase.Atoms object\n",
    "    \"\"\"\n",
    "    return ase.io.read(path)\n",
    "\n",
    "def get_sites_from_atoms(atoms: ase.Atoms, mode: Literal['slab', 'particle']):\n",
    "    \"\"\"\n",
    "    Args:\n",
    "        atoms: ase.Atoms object that can be an \"slab\" or 'particle'. Determines all surface sites. \n",
    "    Returns:\n",
    "        pandas.DataFrame containing all site information.\n",
    "    \"\"\"\n",
    "    return Surface(atoms, mode=mode).site_df\n",
    "\n",
    "def get_fragment(SMILES: str):\n",
    "    \"\"\"\n",
    "    Args:\n",
    "        SMILES: string of smiles that should be placed on surface sites.\n",
    "    returns:\n",
    "        ase.Atoms of molecule or molecular fragment, alligned relative to the site in [0,0,0]\n",
    "    \"\"\"\n",
    "    return Fragment(SMILES).get_conformer(0)\n",
    "\n",
    "def get_ads_slab(slab_atoms, fragment_atoms, site_dict):\n",
    "    \"\"\"\n",
    "    Args:\n",
    "        slab_atoms: ase.Atoms, atoms of slab that should host the fragment\n",
    "        fragment_atoms: ase.Atoms, molecular fragment obtained from SMILES\n",
    "        site_dict: dict, information about the selected site geometry\n",
    "    returns:\n",
    "        ase.Atoms of molecule placed on slab\n",
    "    \"\"\"\n",
    "\n",
    "    ads_slab_atoms = attach_fragment(\n",
    "        atoms = slab_atoms,\n",
    "        site_dict = site_dict,\n",
    "        fragment = fragment_atoms,\n",
    "        n_rotation = 0.,\n",
    "        height=1.5\n",
    "        \n",
    "    )\n",
    "\n",
    "    return ads_slab_atoms\n"
   ]
  },
  {
   "cell_type": "code",
   "execution_count": null,
   "id": "556222e7",
   "metadata": {},
   "outputs": [],
   "source": [
    "# Here is my slab: <path_to_slab>\n",
    "# it should bind to a top site in the center of the slab\n",
    "# how does *[O+]=C=O bind?\n"
   ]
  },
  {
   "cell_type": "code",
   "execution_count": null,
   "id": "1b9fa30c",
   "metadata": {},
   "outputs": [],
   "source": [
    "s.site_df.loc[0].to_dict()"
   ]
  },
  {
   "cell_type": "code",
   "execution_count": null,
   "id": "b3e99450",
   "metadata": {},
   "outputs": [],
   "source": []
  },
  {
   "cell_type": "code",
   "execution_count": null,
   "id": "c2ebb19a",
   "metadata": {},
   "outputs": [],
   "source": [
    "# write('/mnt/c/Users/ef/Desktop/tmp/sites.xyz', [s.view_site(i, return_atoms = True) for i in s.site_df.index.values])"
   ]
  },
  {
   "cell_type": "code",
   "execution_count": null,
   "id": "a3bb638f",
   "metadata": {},
   "outputs": [],
   "source": []
  },
  {
   "cell_type": "code",
   "execution_count": null,
   "id": "d59edcd0",
   "metadata": {},
   "outputs": [],
   "source": [
    "s.site_df"
   ]
  },
  {
   "cell_type": "code",
   "execution_count": null,
   "id": "6a820ba9",
   "metadata": {},
   "outputs": [],
   "source": [
    "from ase.build import fcc111\n",
    "\n",
    "out_trj = []\n",
    "\n",
    "slab = fcc111('Cu', [3,3,2], vacuum=5)\n",
    "\n",
    "out_trj.append(slab.copy())\n",
    "\n",
    "s = Surface(slab)\n",
    "f = Fragment('ClC(=O)[O-]')\n",
    "\n",
    "a = attach_fragment(\n",
    "    atoms = s.atoms,\n",
    "    site_dict = s.site_df.loc[0].to_dict(),\n",
    "    fragment = f.get_conformer(0),\n",
    "    n_rotation = 0.,\n",
    "    height=1.5\n",
    "    \n",
    ")\n",
    "\n",
    "out_trj.append(a)\n",
    "\n",
    "write('/mnt/c/Users/ef/Desktop/tmp/tmp.xyz', out_trj)\n"
   ]
  },
  {
   "cell_type": "code",
   "execution_count": null,
   "id": "dba24c00",
   "metadata": {},
   "outputs": [],
   "source": [
    "# view(a)"
   ]
  },
  {
   "cell_type": "code",
   "execution_count": null,
   "id": "f0e09f94",
   "metadata": {},
   "outputs": [],
   "source": [
    "Fragment('ClC(=O)[O-]')"
   ]
  },
  {
   "cell_type": "code",
   "execution_count": null,
   "id": "411c6425",
   "metadata": {},
   "outputs": [],
   "source": [
    "from ase.build import bulk, surface\n",
    "from ase.io import write\n",
    "import numpy as np\n",
    "import random\n",
    "random.seed(48) \n",
    "\n",
    "\n",
    "# Step 1: Start with a binary oxide (e.g., NiO in rocksalt structure)\n",
    "nio = bulk('NiO', 'rocksalt', a=4.17)\n",
    "\n",
    "# Step 2: Make a surface slab (e.g., (100) surface, 3 layers)\n",
    "slab = surface(nio, (1, 0, 0), layers=4)\n",
    "slab.center(vacuum=10, axis=2)  # add vacuum along z\n",
    "slab *= [4,4,1]\n",
    "\n",
    "# Step 3: Replace some Ni with Fe to create mixed-metal oxide slab\n",
    "symbols = slab.get_chemical_symbols()\n",
    "for i, sym in enumerate(symbols):\n",
    "    if sym == \"Ni\" and np.random.rand() < 0.3:  # randomly swap ~30% Ni for Fe\n",
    "        symbols[i] = \"Fe\"\n",
    "\n",
    "\n",
    "slab.set_chemical_symbols(symbols)\n",
    "\n",
    "s = Surface(slab)\n",
    "\n",
    "inds = []\n",
    "for t in s.site_df.topology.values:\n",
    "    inds+=t\n",
    "set(inds)\n",
    "\n",
    "\n",
    "del_lst = random.sample(inds, 15)\n",
    "\n",
    "slab = slab[[atom.index for atom in slab if atom.index not in del_lst]]\n",
    "slab.rattle(stdev=.2)\n",
    "\n",
    "write(\"NiFeO_slab.xyz\", slab)\n",
    "print(\"Saved NiFeO_slab.xyz\")"
   ]
  },
  {
   "cell_type": "code",
   "execution_count": null,
   "id": "37808874",
   "metadata": {},
   "outputs": [],
   "source": [
    "pwd"
   ]
  },
  {
   "cell_type": "code",
   "execution_count": 14,
   "id": "95201161",
   "metadata": {},
   "outputs": [
    {
     "name": "stdout",
     "output_type": "stream",
     "text": [
      "Using Materials Project MACE for MACECalculator with /home/ef/.cache/mace/20231203mace128L1_epoch199model\n",
      "Using float32 for MACECalculator, which is faster but less accurate. Recommended for MD. Use float64 for geometry optimization.\n",
      "Using head Default out of ['Default']\n",
      "Default dtype float32 does not match model dtype float64, converting models to float32.\n"
     ]
    },
    {
     "name": "stderr",
     "output_type": "stream",
     "text": [
      "/home/ef/venvs/llm_adsorbate/lib/python3.11/site-packages/mace/calculators/mace.py:197: UserWarning: Environment variable TORCH_FORCE_NO_WEIGHTS_ONLY_LOAD detected, since the`weights_only` argument was not explicitly passed to `torch.load`, forcing weights_only=False.\n",
      "  torch.load(f=model_path, map_location=device)\n"
     ]
    },
    {
     "data": {
      "text/plain": [
       "Atoms(symbols='Fe18Ni46O54', pbc=[True, True, False], cell=[[11.794541110191613, 0.0, 0.0], [5.897270555095806, 10.214372227405853, 0.0], [0.0, 0.0, 28.42642717882259]], tags=..., calculator=MACECalculator(...))"
      ]
     },
     "execution_count": 14,
     "metadata": {},
     "output_type": "execute_result"
    }
   ],
   "source": [
    "from tools.tools import read_atoms_object, md_run_atoms, relax_atoms\n",
    "\n",
    "atoms = read_atoms_object('./NiFeO_slab.xyz')\n",
    "\n",
    "relax_atoms(atoms)"
   ]
  },
  {
   "cell_type": "code",
   "execution_count": null,
   "id": "084c9a9b",
   "metadata": {},
   "outputs": [],
   "source": []
  }
 ],
 "metadata": {
  "kernelspec": {
   "display_name": "llm_adsorbate (3.11.13)",
   "language": "python",
   "name": "python3"
  },
  "language_info": {
   "codemirror_mode": {
    "name": "ipython",
    "version": 3
   },
   "file_extension": ".py",
   "mimetype": "text/x-python",
   "name": "python",
   "nbconvert_exporter": "python",
   "pygments_lexer": "ipython3",
   "version": "3.11.13"
  }
 },
 "nbformat": 4,
 "nbformat_minor": 5
}
